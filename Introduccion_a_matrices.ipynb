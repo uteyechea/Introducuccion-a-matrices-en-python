{
  "nbformat": 4,
  "nbformat_minor": 0,
  "metadata": {
    "colab": {
      "name": "Introduccion a matrices.ipynb",
      "provenance": [],
      "toc_visible": true,
      "authorship_tag": "ABX9TyNOcnSmp3oVLNH6ucX7lsmv",
      "include_colab_link": true
    },
    "kernelspec": {
      "name": "python3",
      "display_name": "Python 3"
    }
  },
  "cells": [
    {
      "cell_type": "markdown",
      "metadata": {
        "id": "view-in-github",
        "colab_type": "text"
      },
      "source": [
        "<a href=\"https://colab.research.google.com/github/uteyechea/Introducuccion-a-matrices-en-python/blob/main/Introduccion_a_matrices.ipynb\" target=\"_parent\"><img src=\"https://colab.research.google.com/assets/colab-badge.svg\" alt=\"Open In Colab\"/></a>"
      ]
    },
    {
      "cell_type": "markdown",
      "metadata": {
        "id": "EGSzXFdgMLAN"
      },
      "source": [
        "#Matematicas Discretas: Introduccion a matrices"
      ]
    },
    {
      "cell_type": "code",
      "metadata": {
        "id": "-oRx2oE8McRu"
      },
      "source": [
        "#Import all necessary dependencies\n",
        "import numpy as np"
      ],
      "execution_count": null,
      "outputs": []
    },
    {
      "cell_type": "markdown",
      "metadata": {
        "id": "v4QizBPKMS5I"
      },
      "source": [
        "##Ejemplos de matrices"
      ]
    },
    {
      "cell_type": "code",
      "metadata": {
        "id": "yroXhHotMJAE"
      },
      "source": [
        "A=np.array([\n",
        "            [1,2,3],\n",
        "            [4,5,6],\n",
        "            [7,8,9]\n",
        "])\n",
        "\n",
        "B = np.array([\n",
        "              [-1,1,1],\n",
        "              [0,1,0],\n",
        "              [1,-1,0]\n",
        "])\n",
        "\n",
        "C = np.array([\n",
        "              [1,2],\n",
        "              [3,4]\n",
        "])\n",
        "\n",
        "D=np.array([\n",
        "            [1,2,3,4,5]\n",
        "])\n",
        "\n",
        "E= np.array([\n",
        "             [1],\n",
        "             [2],\n",
        "             [3]\n",
        "])"
      ],
      "execution_count": null,
      "outputs": []
    },
    {
      "cell_type": "code",
      "metadata": {
        "id": "bFydfO16NFtq",
        "outputId": "9d224e1c-fe15-41b1-93d5-f64731a70be6",
        "colab": {
          "base_uri": "https://localhost:8080/"
        }
      },
      "source": [
        "print('La matriz A es de tamaño, {}'.format(A.shape))\n",
        "print('La matriz B es de tamaño, {}'.format(B.shape))\n",
        "print('La matriz C es de tamaño, {}'.format(C.shape))\n",
        "print('La matriz D es de tamaño, {}'.format(D.shape))\n",
        "print('La matriz E es de tamaño, {}'.format(E.shape))"
      ],
      "execution_count": null,
      "outputs": [
        {
          "output_type": "stream",
          "text": [
            "La matriz A es de tamaño, (3, 3)\n",
            "La matriz B es de tamaño, (3, 3)\n",
            "La matriz C es de tamaño, (2, 2)\n",
            "La matriz D es de tamaño, (1, 5)\n",
            "La matriz E es de tamaño, (3, 1)\n"
          ],
          "name": "stdout"
        }
      ]
    },
    {
      "cell_type": "markdown",
      "metadata": {
        "id": "85vGin06NqAy"
      },
      "source": [
        "##Suma y resta de matrices"
      ]
    },
    {
      "cell_type": "code",
      "metadata": {
        "id": "3wDBFNB8NZuI",
        "outputId": "9147ee7f-9542-450d-cd59-f2f72de3768b",
        "colab": {
          "base_uri": "https://localhost:8080/"
        }
      },
      "source": [
        "if A.shape == B.shape:\n",
        "  #Suma de matrices\n",
        "  X=A+B\n",
        "  print('X={}'.format(X))\n",
        "  #Resta de matrices\n",
        "  Y=A-B\n",
        "  print('Y={}'.format(Y))\n",
        "\n",
        "  #o bien\n",
        "  assert A.shape==A.shape\n",
        "  A+B\n",
        "  A-B\n",
        "  "
      ],
      "execution_count": null,
      "outputs": [
        {
          "output_type": "stream",
          "text": [
            "X=[[0 3 4]\n",
            " [4 6 6]\n",
            " [8 7 9]]\n",
            "Y=[[2 1 2]\n",
            " [4 4 6]\n",
            " [6 9 9]]\n"
          ],
          "name": "stdout"
        }
      ]
    },
    {
      "cell_type": "markdown",
      "metadata": {
        "id": "PG0OiZQzPk29"
      },
      "source": [
        "##Multiplicacion de matrices"
      ]
    },
    {
      "cell_type": "markdown",
      "metadata": {
        "id": "-mKnpWocPrb5"
      },
      "source": [
        "###Producto Elemento a Elemento"
      ]
    },
    {
      "cell_type": "code",
      "metadata": {
        "id": "7j88eP92OPEB",
        "outputId": "1c7981a7-ff20-4d99-ed4b-9cd1e2e5913d",
        "colab": {
          "base_uri": "https://localhost:8080/"
        }
      },
      "source": [
        "assert A.shape == B.shape\n",
        "X = A * B\n",
        "print('X=A*B')\n",
        "print(' ={}'.format(X))"
      ],
      "execution_count": null,
      "outputs": [
        {
          "output_type": "stream",
          "text": [
            "X=A*B\n",
            " =[[-1  2  3]\n",
            " [ 0  5  0]\n",
            " [ 7 -8  0]]\n"
          ],
          "name": "stdout"
        }
      ]
    },
    {
      "cell_type": "markdown",
      "metadata": {
        "id": "pkxCz9cBQ97b"
      },
      "source": [
        "###Prducto matricial"
      ]
    },
    {
      "cell_type": "code",
      "metadata": {
        "id": "3aKcEIWRPIxm"
      },
      "source": [
        "X= A @ B"
      ],
      "execution_count": null,
      "outputs": []
    },
    {
      "cell_type": "code",
      "metadata": {
        "id": "AzuHvgtSRFII",
        "outputId": "fac7350c-efb2-4e89-8327-fa3872215730",
        "colab": {
          "base_uri": "https://localhost:8080/"
        }
      },
      "source": [
        "print(X)"
      ],
      "execution_count": null,
      "outputs": [
        {
          "output_type": "stream",
          "text": [
            "[[2 0 1]\n",
            " [2 3 4]\n",
            " [2 6 7]]\n"
          ],
          "name": "stdout"
        }
      ]
    },
    {
      "cell_type": "markdown",
      "metadata": {
        "id": "ZfdllIxpRVII"
      },
      "source": [
        "##La transpuesta de una matriz"
      ]
    },
    {
      "cell_type": "code",
      "metadata": {
        "id": "8zfZ2LIDRGws",
        "outputId": "55fb43c2-ed87-4faa-8d8e-5802789cf110",
        "colab": {
          "base_uri": "https://localhost:8080/"
        }
      },
      "source": [
        "print('El tamaño de la matriz D es {}'.format(D.shape))\n",
        "print('El tamaño de la matriz D transpuesta D^T es {}'.format(D.T.shape))"
      ],
      "execution_count": null,
      "outputs": [
        {
          "output_type": "stream",
          "text": [
            "El tamaño de la matriz D es (1, 5)\n",
            "El tamaño de la matriz D transpuesta D^T es (5, 1)\n"
          ],
          "name": "stdout"
        }
      ]
    },
    {
      "cell_type": "code",
      "metadata": {
        "id": "ZpTPG0hCSGY2",
        "outputId": "ff57bfe8-79cc-4aab-846f-bdf463cac82a",
        "colab": {
          "base_uri": "https://localhost:8080/"
        }
      },
      "source": [
        "print(E.shape)"
      ],
      "execution_count": null,
      "outputs": [
        {
          "output_type": "stream",
          "text": [
            "(3, 1)\n"
          ],
          "name": "stdout"
        }
      ]
    },
    {
      "cell_type": "code",
      "metadata": {
        "id": "nS-n90DgSYW2",
        "outputId": "9b20665b-bd4a-471d-b540-e7c563c73ce6",
        "colab": {
          "base_uri": "https://localhost:8080/"
        }
      },
      "source": [
        "X=E.T\n",
        "print(X.shape)"
      ],
      "execution_count": null,
      "outputs": [
        {
          "output_type": "stream",
          "text": [
            "(1, 3)\n"
          ],
          "name": "stdout"
        }
      ]
    },
    {
      "cell_type": "markdown",
      "metadata": {
        "id": "b2piNpssSvyC"
      },
      "source": [
        "##La traza de una matriz cuadrada"
      ]
    },
    {
      "cell_type": "code",
      "metadata": {
        "id": "qhfpQ6ZuSetT",
        "outputId": "58f68280-c91f-4604-d374-923da6139f52",
        "colab": {
          "base_uri": "https://localhost:8080/"
        }
      },
      "source": [
        "np.trace(A)"
      ],
      "execution_count": null,
      "outputs": [
        {
          "output_type": "execute_result",
          "data": {
            "text/plain": [
              "15"
            ]
          },
          "metadata": {
            "tags": []
          },
          "execution_count": 31
        }
      ]
    },
    {
      "cell_type": "code",
      "metadata": {
        "id": "Yj20h9y_St9-",
        "outputId": "9ceb4b78-212d-4eb9-b141-49595cd4fb0b",
        "colab": {
          "base_uri": "https://localhost:8080/"
        }
      },
      "source": [
        "A"
      ],
      "execution_count": null,
      "outputs": [
        {
          "output_type": "execute_result",
          "data": {
            "text/plain": [
              "array([[1, 2, 3],\n",
              "       [4, 5, 6],\n",
              "       [7, 8, 9]])"
            ]
          },
          "metadata": {
            "tags": []
          },
          "execution_count": 32
        }
      ]
    },
    {
      "cell_type": "markdown",
      "metadata": {
        "id": "kIoqqNCUS4P3"
      },
      "source": [
        "##La inversa de una matriz"
      ]
    },
    {
      "cell_type": "code",
      "metadata": {
        "id": "ArQRkEY-S2BS",
        "outputId": "db818e7b-ba30-4344-be99-fe1287377a76",
        "colab": {
          "base_uri": "https://localhost:8080/"
        }
      },
      "source": [
        "#Ejemplo: Inversa de la matriz B\n",
        "X=np.linalg.inv(B)\n",
        "print(X)"
      ],
      "execution_count": null,
      "outputs": [
        {
          "output_type": "stream",
          "text": [
            "[[-0.  1.  1.]\n",
            " [ 0.  1.  0.]\n",
            " [ 1.  0.  1.]]\n"
          ],
          "name": "stdout"
        }
      ]
    },
    {
      "cell_type": "code",
      "metadata": {
        "id": "NeSsjBDTTIqg",
        "outputId": "b2e0654f-59db-4a4e-f04f-ad5403dc4349",
        "colab": {
          "base_uri": "https://localhost:8080/"
        }
      },
      "source": [
        "#Verificamos la inversa de B, multiplicando B B^-1 = I, esperando obtener la matriz identidad\n",
        "B @ X"
      ],
      "execution_count": null,
      "outputs": [
        {
          "output_type": "execute_result",
          "data": {
            "text/plain": [
              "array([[1., 0., 0.],\n",
              "       [0., 1., 0.],\n",
              "       [0., 0., 1.]])"
            ]
          },
          "metadata": {
            "tags": []
          },
          "execution_count": 44
        }
      ]
    },
    {
      "cell_type": "markdown",
      "metadata": {
        "id": "2vYR32HRUMEc"
      },
      "source": [
        "##El determinante de una matriz"
      ]
    },
    {
      "cell_type": "code",
      "metadata": {
        "id": "cLRpSgUFTWt5",
        "outputId": "d440fbca-cb00-49b5-fda7-afc0455dcf97",
        "colab": {
          "base_uri": "https://localhost:8080/"
        }
      },
      "source": [
        "#Ejemplo: Calcule el determinante de la matriz C\n",
        "x=np.linalg.det(C)\n",
        "print(x)"
      ],
      "execution_count": null,
      "outputs": [
        {
          "output_type": "stream",
          "text": [
            "-2.0000000000000004\n"
          ],
          "name": "stdout"
        }
      ]
    },
    {
      "cell_type": "markdown",
      "metadata": {
        "id": "7YQ1yBFnVmJW"
      },
      "source": [
        "##Resolver un sistema de ecuaciones lineales"
      ]
    },
    {
      "cell_type": "code",
      "metadata": {
        "id": "RptAW7nZVsO2"
      },
      "source": [
        "#Considere el siguiente sistema de ecuaciones lineales\n",
        "\"\"\"\n",
        "ecuacion1=2x + 3y + 1z = 2\n",
        "ecuacion2=-1x + 2y + 3z = 5\n",
        "ecuacion3=7x + 5y - 1z = 3\n",
        "\"\"\"\n",
        "#el cual reescribimos en notacion matricial, Ax = b, de la siguiente manera\n",
        "A=np.array([\n",
        "            [2,3,1],\n",
        "            [-1,2,3],\n",
        "            [7,5,-1]\n",
        "])\n",
        "\n",
        "b=np.array([\n",
        "            [2],\n",
        "            [5],\n",
        "            [3]\n",
        "])"
      ],
      "execution_count": null,
      "outputs": []
    },
    {
      "cell_type": "code",
      "metadata": {
        "id": "zF4SwaqjUgcz",
        "outputId": "5f25d3ca-79c7-4307-d7b5-fe1a4dad511f",
        "colab": {
          "base_uri": "https://localhost:8080/"
        }
      },
      "source": [
        "#Calculamos los valores de x,y,z que satisfaces a las tres ecuaciones simultaneamente\n",
        "x=np.linalg.solve(A,b)\n",
        "print(x)"
      ],
      "execution_count": null,
      "outputs": [
        {
          "output_type": "stream",
          "text": [
            "[[ 3.85714286]\n",
            " [-3.71428571]\n",
            " [ 5.42857143]]\n"
          ],
          "name": "stdout"
        }
      ]
    },
    {
      "cell_type": "code",
      "metadata": {
        "id": "DUexMQwkWoUp",
        "outputId": "adea4050-b4df-4917-a943-e79f7e37465b",
        "colab": {
          "base_uri": "https://localhost:8080/"
        }
      },
      "source": [
        "#Verficamos la solucion para x, si x es una soluciones entonces\n",
        "x.shape"
      ],
      "execution_count": null,
      "outputs": [
        {
          "output_type": "execute_result",
          "data": {
            "text/plain": [
              "(3, 1)"
            ]
          },
          "metadata": {
            "tags": []
          },
          "execution_count": 53
        }
      ]
    },
    {
      "cell_type": "code",
      "metadata": {
        "id": "kzf_qv5CWvAV"
      },
      "source": [
        "#el producto matricial entre A y la solucion encontrada x me debe dar b\n",
        "Y = A @ x "
      ],
      "execution_count": null,
      "outputs": []
    },
    {
      "cell_type": "code",
      "metadata": {
        "id": "KpI1US7wW5xM",
        "outputId": "06b2c546-1210-471d-95a6-977ea09620c5",
        "colab": {
          "base_uri": "https://localhost:8080/"
        }
      },
      "source": [
        "#una manera de verificar que el producto matricial Y=Ax es igual a b es calculando la resta \n",
        "Y-b"
      ],
      "execution_count": null,
      "outputs": [
        {
          "output_type": "execute_result",
          "data": {
            "text/plain": [
              "array([[8.8817842e-16],\n",
              "       [0.0000000e+00],\n",
              "       [8.8817842e-16]])"
            ]
          },
          "metadata": {
            "tags": []
          },
          "execution_count": 55
        }
      ]
    },
    {
      "cell_type": "code",
      "metadata": {
        "id": "-CZ6ETd5W7QA"
      },
      "source": [
        "\"\"\"\n",
        "si la resta es igual a cero entonces verfico que es una solucion. Pero esto no es necesario\n",
        "puesto que el paquete numpy de python ha sido extensivamente probado y se puede considerar\n",
        "como una implementacion correcta de matematicas en programacion.\n",
        "\"\"\""
      ],
      "execution_count": null,
      "outputs": []
    }
  ]
}